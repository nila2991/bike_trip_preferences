{
 "cells": [
  {
   "cell_type": "code",
   "execution_count": 1,
   "id": "b9a9c143",
   "metadata": {
    "_execution_state": "idle",
    "_uuid": "051d70d956493feee0c6d64651c6a088724dca2a",
    "execution": {
     "iopub.execute_input": "2023-08-16T14:47:31.376751Z",
     "iopub.status.busy": "2023-08-16T14:47:31.373109Z",
     "iopub.status.idle": "2023-08-16T14:47:32.543715Z",
     "shell.execute_reply": "2023-08-16T14:47:32.542217Z"
    },
    "papermill": {
     "duration": 1.187922,
     "end_time": "2023-08-16T14:47:32.546573",
     "exception": false,
     "start_time": "2023-08-16T14:47:31.358651",
     "status": "completed"
    },
    "tags": []
   },
   "outputs": [
    {
     "name": "stderr",
     "output_type": "stream",
     "text": [
      "── \u001b[1mAttaching core tidyverse packages\u001b[22m ──────────────────────── tidyverse 2.0.0 ──\n",
      "\u001b[32m✔\u001b[39m \u001b[34mdplyr    \u001b[39m 1.1.2     \u001b[32m✔\u001b[39m \u001b[34mreadr    \u001b[39m 2.1.4\n",
      "\u001b[32m✔\u001b[39m \u001b[34mforcats  \u001b[39m 1.0.0     \u001b[32m✔\u001b[39m \u001b[34mstringr  \u001b[39m 1.5.0\n",
      "\u001b[32m✔\u001b[39m \u001b[34mggplot2  \u001b[39m 3.4.2     \u001b[32m✔\u001b[39m \u001b[34mtibble   \u001b[39m 3.2.1\n",
      "\u001b[32m✔\u001b[39m \u001b[34mlubridate\u001b[39m 1.9.2     \u001b[32m✔\u001b[39m \u001b[34mtidyr    \u001b[39m 1.3.0\n",
      "\u001b[32m✔\u001b[39m \u001b[34mpurrr    \u001b[39m 1.0.1     \n",
      "── \u001b[1mConflicts\u001b[22m ────────────────────────────────────────── tidyverse_conflicts() ──\n",
      "\u001b[31m✖\u001b[39m \u001b[34mdplyr\u001b[39m::\u001b[32mfilter()\u001b[39m masks \u001b[34mstats\u001b[39m::filter()\n",
      "\u001b[31m✖\u001b[39m \u001b[34mdplyr\u001b[39m::\u001b[32mlag()\u001b[39m    masks \u001b[34mstats\u001b[39m::lag()\n",
      "\u001b[36mℹ\u001b[39m Use the conflicted package (\u001b[3m\u001b[34m<http://conflicted.r-lib.org/>\u001b[39m\u001b[23m) to force all conflicts to become errors\n"
     ]
    },
    {
     "data": {
      "text/html": [
       "'cyclistic-bike-share-july-22-june-23'"
      ],
      "text/latex": [
       "'cyclistic-bike-share-july-22-june-23'"
      ],
      "text/markdown": [
       "'cyclistic-bike-share-july-22-june-23'"
      ],
      "text/plain": [
       "[1] \"cyclistic-bike-share-july-22-june-23\""
      ]
     },
     "metadata": {},
     "output_type": "display_data"
    }
   ],
   "source": [
    "# This R environment comes with many helpful analytics packages installed\n",
    "# It is defined by the kaggle/rstats Docker image: https://github.com/kaggle/docker-rstats\n",
    "# For example, here's a helpful package to load\n",
    "\n",
    "library(tidyverse) # metapackage of all tidyverse packages\n",
    "\n",
    "# Input data files are available in the read-only \"../input/\" directory\n",
    "# For example, running this (by clicking run or pressing Shift+Enter) will list all files under the input directory\n",
    "\n",
    "list.files(path = \"../input\")\n",
    "\n",
    "# You can write up to 20GB to the current directory (/kaggle/working/) that gets preserved as output when you create a version using \"Save & Run All\" \n",
    "# You can also write temporary files to /kaggle/temp/, but they won't be saved outside of the current session"
   ]
  },
  {
   "cell_type": "code",
   "execution_count": 2,
   "id": "9949f2e6",
   "metadata": {
    "execution": {
     "iopub.execute_input": "2023-08-16T14:47:32.594168Z",
     "iopub.status.busy": "2023-08-16T14:47:32.568515Z",
     "iopub.status.idle": "2023-08-16T14:48:23.624955Z",
     "shell.execute_reply": "2023-08-16T14:48:23.623362Z"
    },
    "papermill": {
     "duration": 51.070058,
     "end_time": "2023-08-16T14:48:23.627134",
     "exception": false,
     "start_time": "2023-08-16T14:47:32.557076",
     "status": "completed"
    },
    "tags": []
   },
   "outputs": [
    {
     "name": "stderr",
     "output_type": "stream",
     "text": [
      "\u001b[1mRows: \u001b[22m\u001b[34m823488\u001b[39m \u001b[1mColumns: \u001b[22m\u001b[34m13\u001b[39m\n",
      "\u001b[36m──\u001b[39m \u001b[1mColumn specification\u001b[22m \u001b[36m────────────────────────────────────────────────────────\u001b[39m\n",
      "\u001b[1mDelimiter:\u001b[22m \",\"\n",
      "\u001b[31mchr\u001b[39m  (7): ride_id, rideable_type, start_station_name, start_station_id, end_...\n",
      "\u001b[32mdbl\u001b[39m  (4): start_lat, start_lng, end_lat, end_lng\n",
      "\u001b[34mdttm\u001b[39m (2): started_at, ended_at\n",
      "\n",
      "\u001b[36mℹ\u001b[39m Use `spec()` to retrieve the full column specification for this data.\n",
      "\u001b[36mℹ\u001b[39m Specify the column types or set `show_col_types = FALSE` to quiet this message.\n",
      "\u001b[1mRows: \u001b[22m\u001b[34m785932\u001b[39m \u001b[1mColumns: \u001b[22m\u001b[34m13\u001b[39m\n",
      "\u001b[36m──\u001b[39m \u001b[1mColumn specification\u001b[22m \u001b[36m────────────────────────────────────────────────────────\u001b[39m\n",
      "\u001b[1mDelimiter:\u001b[22m \",\"\n",
      "\u001b[31mchr\u001b[39m  (7): ride_id, rideable_type, start_station_name, start_station_id, end_...\n",
      "\u001b[32mdbl\u001b[39m  (4): start_lat, start_lng, end_lat, end_lng\n",
      "\u001b[34mdttm\u001b[39m (2): started_at, ended_at\n",
      "\n",
      "\u001b[36mℹ\u001b[39m Use `spec()` to retrieve the full column specification for this data.\n",
      "\u001b[36mℹ\u001b[39m Specify the column types or set `show_col_types = FALSE` to quiet this message.\n",
      "\u001b[1mRows: \u001b[22m\u001b[34m701339\u001b[39m \u001b[1mColumns: \u001b[22m\u001b[34m13\u001b[39m\n",
      "\u001b[36m──\u001b[39m \u001b[1mColumn specification\u001b[22m \u001b[36m────────────────────────────────────────────────────────\u001b[39m\n",
      "\u001b[1mDelimiter:\u001b[22m \",\"\n",
      "\u001b[31mchr\u001b[39m  (7): ride_id, rideable_type, start_station_name, start_station_id, end_...\n",
      "\u001b[32mdbl\u001b[39m  (4): start_lat, start_lng, end_lat, end_lng\n",
      "\u001b[34mdttm\u001b[39m (2): started_at, ended_at\n",
      "\n",
      "\u001b[36mℹ\u001b[39m Use `spec()` to retrieve the full column specification for this data.\n",
      "\u001b[36mℹ\u001b[39m Specify the column types or set `show_col_types = FALSE` to quiet this message.\n",
      "\u001b[1mRows: \u001b[22m\u001b[34m558685\u001b[39m \u001b[1mColumns: \u001b[22m\u001b[34m13\u001b[39m\n",
      "\u001b[36m──\u001b[39m \u001b[1mColumn specification\u001b[22m \u001b[36m────────────────────────────────────────────────────────\u001b[39m\n",
      "\u001b[1mDelimiter:\u001b[22m \",\"\n",
      "\u001b[31mchr\u001b[39m  (7): ride_id, rideable_type, start_station_name, start_station_id, end_...\n",
      "\u001b[32mdbl\u001b[39m  (4): start_lat, start_lng, end_lat, end_lng\n",
      "\u001b[34mdttm\u001b[39m (2): started_at, ended_at\n",
      "\n",
      "\u001b[36mℹ\u001b[39m Use `spec()` to retrieve the full column specification for this data.\n",
      "\u001b[36mℹ\u001b[39m Specify the column types or set `show_col_types = FALSE` to quiet this message.\n",
      "\u001b[1mRows: \u001b[22m\u001b[34m337735\u001b[39m \u001b[1mColumns: \u001b[22m\u001b[34m13\u001b[39m\n",
      "\u001b[36m──\u001b[39m \u001b[1mColumn specification\u001b[22m \u001b[36m────────────────────────────────────────────────────────\u001b[39m\n",
      "\u001b[1mDelimiter:\u001b[22m \",\"\n",
      "\u001b[31mchr\u001b[39m  (7): ride_id, rideable_type, start_station_name, start_station_id, end_...\n",
      "\u001b[32mdbl\u001b[39m  (4): start_lat, start_lng, end_lat, end_lng\n",
      "\u001b[34mdttm\u001b[39m (2): started_at, ended_at\n",
      "\n",
      "\u001b[36mℹ\u001b[39m Use `spec()` to retrieve the full column specification for this data.\n",
      "\u001b[36mℹ\u001b[39m Specify the column types or set `show_col_types = FALSE` to quiet this message.\n",
      "\u001b[1mRows: \u001b[22m\u001b[34m181806\u001b[39m \u001b[1mColumns: \u001b[22m\u001b[34m13\u001b[39m\n",
      "\u001b[36m──\u001b[39m \u001b[1mColumn specification\u001b[22m \u001b[36m────────────────────────────────────────────────────────\u001b[39m\n",
      "\u001b[1mDelimiter:\u001b[22m \",\"\n",
      "\u001b[31mchr\u001b[39m  (7): ride_id, rideable_type, start_station_name, start_station_id, end_...\n",
      "\u001b[32mdbl\u001b[39m  (4): start_lat, start_lng, end_lat, end_lng\n",
      "\u001b[34mdttm\u001b[39m (2): started_at, ended_at\n",
      "\n",
      "\u001b[36mℹ\u001b[39m Use `spec()` to retrieve the full column specification for this data.\n",
      "\u001b[36mℹ\u001b[39m Specify the column types or set `show_col_types = FALSE` to quiet this message.\n",
      "\u001b[1mRows: \u001b[22m\u001b[34m190301\u001b[39m \u001b[1mColumns: \u001b[22m\u001b[34m13\u001b[39m\n",
      "\u001b[36m──\u001b[39m \u001b[1mColumn specification\u001b[22m \u001b[36m────────────────────────────────────────────────────────\u001b[39m\n",
      "\u001b[1mDelimiter:\u001b[22m \",\"\n",
      "\u001b[31mchr\u001b[39m  (7): ride_id, rideable_type, start_station_name, start_station_id, end_...\n",
      "\u001b[32mdbl\u001b[39m  (4): start_lat, start_lng, end_lat, end_lng\n",
      "\u001b[34mdttm\u001b[39m (2): started_at, ended_at\n",
      "\n",
      "\u001b[36mℹ\u001b[39m Use `spec()` to retrieve the full column specification for this data.\n",
      "\u001b[36mℹ\u001b[39m Specify the column types or set `show_col_types = FALSE` to quiet this message.\n",
      "\u001b[1mRows: \u001b[22m\u001b[34m190445\u001b[39m \u001b[1mColumns: \u001b[22m\u001b[34m13\u001b[39m\n",
      "\u001b[36m──\u001b[39m \u001b[1mColumn specification\u001b[22m \u001b[36m────────────────────────────────────────────────────────\u001b[39m\n",
      "\u001b[1mDelimiter:\u001b[22m \",\"\n",
      "\u001b[31mchr\u001b[39m  (7): ride_id, rideable_type, start_station_name, start_station_id, end_...\n",
      "\u001b[32mdbl\u001b[39m  (4): start_lat, start_lng, end_lat, end_lng\n",
      "\u001b[34mdttm\u001b[39m (2): started_at, ended_at\n",
      "\n",
      "\u001b[36mℹ\u001b[39m Use `spec()` to retrieve the full column specification for this data.\n",
      "\u001b[36mℹ\u001b[39m Specify the column types or set `show_col_types = FALSE` to quiet this message.\n",
      "\u001b[1mRows: \u001b[22m\u001b[34m258678\u001b[39m \u001b[1mColumns: \u001b[22m\u001b[34m13\u001b[39m\n",
      "\u001b[36m──\u001b[39m \u001b[1mColumn specification\u001b[22m \u001b[36m────────────────────────────────────────────────────────\u001b[39m\n",
      "\u001b[1mDelimiter:\u001b[22m \",\"\n",
      "\u001b[31mchr\u001b[39m  (7): ride_id, rideable_type, start_station_name, start_station_id, end_...\n",
      "\u001b[32mdbl\u001b[39m  (4): start_lat, start_lng, end_lat, end_lng\n",
      "\u001b[34mdttm\u001b[39m (2): started_at, ended_at\n",
      "\n",
      "\u001b[36mℹ\u001b[39m Use `spec()` to retrieve the full column specification for this data.\n",
      "\u001b[36mℹ\u001b[39m Specify the column types or set `show_col_types = FALSE` to quiet this message.\n",
      "\u001b[1mRows: \u001b[22m\u001b[34m426590\u001b[39m \u001b[1mColumns: \u001b[22m\u001b[34m13\u001b[39m\n",
      "\u001b[36m──\u001b[39m \u001b[1mColumn specification\u001b[22m \u001b[36m────────────────────────────────────────────────────────\u001b[39m\n",
      "\u001b[1mDelimiter:\u001b[22m \",\"\n",
      "\u001b[31mchr\u001b[39m  (7): ride_id, rideable_type, start_station_name, start_station_id, end_...\n",
      "\u001b[32mdbl\u001b[39m  (4): start_lat, start_lng, end_lat, end_lng\n",
      "\u001b[34mdttm\u001b[39m (2): started_at, ended_at\n",
      "\n",
      "\u001b[36mℹ\u001b[39m Use `spec()` to retrieve the full column specification for this data.\n",
      "\u001b[36mℹ\u001b[39m Specify the column types or set `show_col_types = FALSE` to quiet this message.\n",
      "\u001b[1mRows: \u001b[22m\u001b[34m604827\u001b[39m \u001b[1mColumns: \u001b[22m\u001b[34m13\u001b[39m\n",
      "\u001b[36m──\u001b[39m \u001b[1mColumn specification\u001b[22m \u001b[36m────────────────────────────────────────────────────────\u001b[39m\n",
      "\u001b[1mDelimiter:\u001b[22m \",\"\n",
      "\u001b[31mchr\u001b[39m  (7): ride_id, rideable_type, start_station_name, start_station_id, end_...\n",
      "\u001b[32mdbl\u001b[39m  (4): start_lat, start_lng, end_lat, end_lng\n",
      "\u001b[34mdttm\u001b[39m (2): started_at, ended_at\n",
      "\n",
      "\u001b[36mℹ\u001b[39m Use `spec()` to retrieve the full column specification for this data.\n",
      "\u001b[36mℹ\u001b[39m Specify the column types or set `show_col_types = FALSE` to quiet this message.\n",
      "\u001b[1mRows: \u001b[22m\u001b[34m719618\u001b[39m \u001b[1mColumns: \u001b[22m\u001b[34m13\u001b[39m\n",
      "\u001b[36m──\u001b[39m \u001b[1mColumn specification\u001b[22m \u001b[36m────────────────────────────────────────────────────────\u001b[39m\n",
      "\u001b[1mDelimiter:\u001b[22m \",\"\n",
      "\u001b[31mchr\u001b[39m  (7): ride_id, rideable_type, start_station_name, start_station_id, end_...\n",
      "\u001b[32mdbl\u001b[39m  (4): start_lat, start_lng, end_lat, end_lng\n",
      "\u001b[34mdttm\u001b[39m (2): started_at, ended_at\n",
      "\n",
      "\u001b[36mℹ\u001b[39m Use `spec()` to retrieve the full column specification for this data.\n",
      "\u001b[36mℹ\u001b[39m Specify the column types or set `show_col_types = FALSE` to quiet this message.\n"
     ]
    }
   ],
   "source": [
    "library(tidyverse)\n",
    "library(lubridate)\n",
    "library(ggplot2)\n",
    "library(knitr)\n",
    "library(rmarkdown)\n",
    "\n",
    "\n",
    "july_2022 <- read_csv(\"../input/cyclistic-bike-share-july-22-june-23/202207-divvy-tripdata.csv\")\n",
    "august_2022 <- read_csv(\"../input/cyclistic-bike-share-july-22-june-23/202208-divvy-tripdata.csv\")\n",
    "september_2022 <- read_csv(\"../input/cyclistic-bike-share-july-22-june-23/202209-divvy-tripdata.csv\")\n",
    "october_2022 <- read_csv(\"../input/cyclistic-bike-share-july-22-june-23/202210-divvy-tripdata.csv\")\n",
    "november_2022 <- read_csv(\"../input/cyclistic-bike-share-july-22-june-23/202211-divvy-tripdata.csv\")\n",
    "december_2022 <- read_csv(\"../input/cyclistic-bike-share-july-22-june-23/202212-divvy-tripdata.csv\")\n",
    "january_2023 <- read_csv(\"../input/cyclistic-bike-share-july-22-june-23/202301-divvy-tripdata.csv\")\n",
    "february_2023 <- read_csv(\"../input/cyclistic-bike-share-july-22-june-23/202302-divvy-tripdata.csv\")\n",
    "march_2023 <- read_csv(\"../input/cyclistic-bike-share-july-22-june-23/202303-divvy-tripdata.csv\")\n",
    "april_2023 <- read_csv(\"../input/cyclistic-bike-share-july-22-june-23/202304-divvy-tripdata.csv\")\n",
    "may_2023 <- read_csv(\"../input/cyclistic-bike-share-july-22-june-23/202305-divvy-tripdata.csv\")\n",
    "june_2023 <- read_csv(\"../input/cyclistic-bike-share-july-22-june-23/202306-divvy-tripdata.csv\")\n",
    "\n",
    "\n",
    "all_trips <- bind_rows(july_2022, august_2022, september_2022, october_2022, november_2022, december_2022, january_2023, february_2023, march_2023, april_2023, may_2023, june_2023)\n",
    "\n",
    "\n",
    "all_trips <- all_trips %>%  \n",
    "  select(-c(start_lat, start_lng, end_lat, end_lng))\n",
    "\n",
    "all_trips$date <- as.Date(all_trips$started_at) #The default format is yyyy-mm-dd\n",
    "all_trips$month <- format(as.Date(all_trips$date), \"%m\")\n",
    "all_trips$day <- format(as.Date(all_trips$date), \"%d\")\n",
    "all_trips$year <- format(as.Date(all_trips$date), \"%Y\")\n",
    "all_trips$day_of_week <- format(as.Date(all_trips$date), \"%A\")\n",
    "\n",
    "all_trips$ride_length <- difftime(all_trips$ended_at,all_trips$started_at)\n",
    "\n",
    "all_trips$ride_length <- as.numeric(as.character(all_trips$ride_length))\n",
    "\n",
    "all_trips$ride_length_min <- all_trips$ride_length / 60\n",
    "\n",
    "all_trips_v2 <- all_trips[!(all_trips$start_station_name == \"HQ QR\" | all_trips$ride_length<0),] %>% drop_na()\n"
   ]
  },
  {
   "cell_type": "markdown",
   "id": "bc7dbd99",
   "metadata": {
    "papermill": {
     "duration": 0.00987,
     "end_time": "2023-08-16T14:48:23.647306",
     "exception": false,
     "start_time": "2023-08-16T14:48:23.637436",
     "status": "completed"
    },
    "tags": []
   },
   "source": [
    "# Plan\n",
    "\n",
    "## - <span style=\"color: #F78181\">Business task</span>\n",
    "## - <span style=\"color: #F7BE81;\">Description of the data</span>\n",
    "## - <span style=\"color: #D7DF01;\">Data preparation</span>\n",
    "## - <span style=\"color: #9FF781;\">Analysis</span>\n",
    "## - <span style=\"color: #58D3F7;\">Key findings</span>\n",
    "## - <span style=\"color: #BCA9F5;\">Recommendations</span>\n",
    "\n",
    "<br>\n",
    "\n",
    "# Business task:   \n",
    "## How do annual members and casual riders use Cyclistic bikes differently?\n",
    "\n",
    "<br><br>\n",
    "\n",
    "# Description of the data\n",
    "\n",
    "I used Cyclistic’s historical trip data for the last 12 months. After I combined all 12 files together and cleaned the data from personal information, I got a big data file, containing <br> 5 779 444 rows and 9 columns:\n",
    "\n",
    "- ride_id  &emsp;&emsp;&emsp;&emsp;&emsp;&emsp;&emsp;&nbsp;&nbsp;&nbsp; - special ride id number\n",
    "- rideable_type &emsp;&emsp;&emsp;&emsp;&nbsp;&nbsp; - type of bike\n",
    "- started_at &emsp;&emsp;&emsp;&emsp;&emsp;&emsp;&nbsp; - start trip time\n",
    "- ended_at &emsp;&emsp;&emsp;&emsp;&emsp;&emsp;&nbsp;&nbsp; - end trip time\n",
    "- start_station_name &emsp;&emsp; - name of start trip station\n",
    "- start_station_id &emsp;&emsp;&emsp;&nbsp;&nbsp;&nbsp; - special id of start trip station\n",
    "- end_station_name &emsp;&emsp;&nbsp; - name of end trip station\n",
    "- end_station_id &emsp;&emsp;&emsp;&emsp; - special id of end trip station\n",
    "- member_casual &emsp;&emsp;&emsp;&nbsp;&nbsp; - type of users\n",
    "\n",
    "\n",
    "\n",
    "# Data preparation \n",
    "\n",
    "The most important for me was to figure out what's the difference in trips between membership holders and casual users.\n",
    "\n",
    "First of all, I checked that there are only two types of membership (member or casual), as it is supposed to be.\n",
    "\n",
    "Then I split the time data into several columns - such as day, month, and year - that provide more opportunities to aggregate the data.\n",
    "\n",
    "\n",
    "## Some calculations \n",
    "\n",
    "I decided to add a calculated field for the length of the ride (in minutes) for future comparisons.\n",
    "\n",
    "After that, I cleaned this data so it would be numeric (for future calculations) and credible.\n",
    "\n",
    "Let's have a look at the mean, median, min, and max values of the trip's length."
   ]
  },
  {
   "cell_type": "code",
   "execution_count": 3,
   "id": "06b25d4e",
   "metadata": {
    "execution": {
     "iopub.execute_input": "2023-08-16T14:48:23.671250Z",
     "iopub.status.busy": "2023-08-16T14:48:23.669759Z",
     "iopub.status.idle": "2023-08-16T14:48:25.960369Z",
     "shell.execute_reply": "2023-08-16T14:48:25.959041Z"
    },
    "papermill": {
     "duration": 2.305222,
     "end_time": "2023-08-16T14:48:25.962509",
     "exception": false,
     "start_time": "2023-08-16T14:48:23.657287",
     "status": "completed"
    },
    "tags": []
   },
   "outputs": [
    {
     "data": {
      "text/plain": [
       "    Min.  1st Qu.   Median     Mean  3rd Qu.     Max. \n",
       "    0.00     5.72    10.00    16.05    17.85 32035.45 "
      ]
     },
     "metadata": {},
     "output_type": "display_data"
    }
   ],
   "source": [
    "summary(all_trips_v2$ride_length_min)"
   ]
  },
  {
   "cell_type": "markdown",
   "id": "3d39000a",
   "metadata": {
    "papermill": {
     "duration": 0.010715,
     "end_time": "2023-08-16T14:48:25.983735",
     "exception": false,
     "start_time": "2023-08-16T14:48:25.973020",
     "status": "completed"
    },
    "tags": []
   },
   "source": [
    "But it is more informative for us to have a look at this information, divided by membership holders and casual users.\n",
    "\n",
    "## Mean:"
   ]
  },
  {
   "cell_type": "code",
   "execution_count": 4,
   "id": "8af93966",
   "metadata": {
    "execution": {
     "iopub.execute_input": "2023-08-16T14:48:26.008854Z",
     "iopub.status.busy": "2023-08-16T14:48:26.007656Z",
     "iopub.status.idle": "2023-08-16T14:48:28.267275Z",
     "shell.execute_reply": "2023-08-16T14:48:28.265741Z"
    },
    "papermill": {
     "duration": 2.274554,
     "end_time": "2023-08-16T14:48:28.269882",
     "exception": false,
     "start_time": "2023-08-16T14:48:25.995328",
     "status": "completed"
    },
    "tags": []
   },
   "outputs": [
    {
     "data": {
      "text/html": [
       "<table class=\"dataframe\">\n",
       "<caption>A data.frame: 2 × 2</caption>\n",
       "<thead>\n",
       "\t<tr><th scope=col>all_trips_v2$member_casual</th><th scope=col>all_trips_v2$ride_length_min</th></tr>\n",
       "\t<tr><th scope=col>&lt;chr&gt;</th><th scope=col>&lt;dbl&gt;</th></tr>\n",
       "</thead>\n",
       "<tbody>\n",
       "\t<tr><td>casual</td><td>22.49666</td></tr>\n",
       "\t<tr><td>member</td><td>12.10124</td></tr>\n",
       "</tbody>\n",
       "</table>\n"
      ],
      "text/latex": [
       "A data.frame: 2 × 2\n",
       "\\begin{tabular}{ll}\n",
       " all\\_trips\\_v2\\$member\\_casual & all\\_trips\\_v2\\$ride\\_length\\_min\\\\\n",
       " <chr> & <dbl>\\\\\n",
       "\\hline\n",
       "\t casual & 22.49666\\\\\n",
       "\t member & 12.10124\\\\\n",
       "\\end{tabular}\n"
      ],
      "text/markdown": [
       "\n",
       "A data.frame: 2 × 2\n",
       "\n",
       "| all_trips_v2$member_casual &lt;chr&gt; | all_trips_v2$ride_length_min &lt;dbl&gt; |\n",
       "|---|---|\n",
       "| casual | 22.49666 |\n",
       "| member | 12.10124 |\n",
       "\n"
      ],
      "text/plain": [
       "  all_trips_v2$member_casual all_trips_v2$ride_length_min\n",
       "1 casual                     22.49666                    \n",
       "2 member                     12.10124                    "
      ]
     },
     "metadata": {},
     "output_type": "display_data"
    }
   ],
   "source": [
    "aggregate(all_trips_v2$ride_length_min ~ all_trips_v2$member_casual, FUN = mean)"
   ]
  },
  {
   "cell_type": "markdown",
   "id": "417cfb3e",
   "metadata": {
    "papermill": {
     "duration": 0.010432,
     "end_time": "2023-08-16T14:48:28.291152",
     "exception": false,
     "start_time": "2023-08-16T14:48:28.280720",
     "status": "completed"
    },
    "tags": []
   },
   "source": [
    "## Median:"
   ]
  },
  {
   "cell_type": "code",
   "execution_count": 5,
   "id": "58dac10f",
   "metadata": {
    "execution": {
     "iopub.execute_input": "2023-08-16T14:48:28.315258Z",
     "iopub.status.busy": "2023-08-16T14:48:28.313858Z",
     "iopub.status.idle": "2023-08-16T14:48:30.450986Z",
     "shell.execute_reply": "2023-08-16T14:48:30.449732Z"
    },
    "papermill": {
     "duration": 2.151924,
     "end_time": "2023-08-16T14:48:30.453366",
     "exception": false,
     "start_time": "2023-08-16T14:48:28.301442",
     "status": "completed"
    },
    "tags": []
   },
   "outputs": [
    {
     "data": {
      "text/html": [
       "<table class=\"dataframe\">\n",
       "<caption>A data.frame: 2 × 2</caption>\n",
       "<thead>\n",
       "\t<tr><th scope=col>all_trips_v2$member_casual</th><th scope=col>all_trips_v2$ride_length_min</th></tr>\n",
       "\t<tr><th scope=col>&lt;chr&gt;</th><th scope=col>&lt;dbl&gt;</th></tr>\n",
       "</thead>\n",
       "<tbody>\n",
       "\t<tr><td>casual</td><td>12.850000</td></tr>\n",
       "\t<tr><td>member</td><td> 8.666667</td></tr>\n",
       "</tbody>\n",
       "</table>\n"
      ],
      "text/latex": [
       "A data.frame: 2 × 2\n",
       "\\begin{tabular}{ll}\n",
       " all\\_trips\\_v2\\$member\\_casual & all\\_trips\\_v2\\$ride\\_length\\_min\\\\\n",
       " <chr> & <dbl>\\\\\n",
       "\\hline\n",
       "\t casual & 12.850000\\\\\n",
       "\t member &  8.666667\\\\\n",
       "\\end{tabular}\n"
      ],
      "text/markdown": [
       "\n",
       "A data.frame: 2 × 2\n",
       "\n",
       "| all_trips_v2$member_casual &lt;chr&gt; | all_trips_v2$ride_length_min &lt;dbl&gt; |\n",
       "|---|---|\n",
       "| casual | 12.850000 |\n",
       "| member |  8.666667 |\n",
       "\n"
      ],
      "text/plain": [
       "  all_trips_v2$member_casual all_trips_v2$ride_length_min\n",
       "1 casual                     12.850000                   \n",
       "2 member                      8.666667                   "
      ]
     },
     "metadata": {},
     "output_type": "display_data"
    }
   ],
   "source": [
    "aggregate(all_trips_v2$ride_length_min ~ all_trips_v2$member_casual, FUN = median)"
   ]
  },
  {
   "cell_type": "markdown",
   "id": "645001d8",
   "metadata": {
    "papermill": {
     "duration": 0.010383,
     "end_time": "2023-08-16T14:48:30.474604",
     "exception": false,
     "start_time": "2023-08-16T14:48:30.464221",
     "status": "completed"
    },
    "tags": []
   },
   "source": [
    "As we can see, in both cases (mean and median) casual users' rides are longer than membership holders'.\n",
    "\n",
    "## Max:\n"
   ]
  },
  {
   "cell_type": "code",
   "execution_count": 6,
   "id": "b372f50e",
   "metadata": {
    "execution": {
     "iopub.execute_input": "2023-08-16T14:48:30.498817Z",
     "iopub.status.busy": "2023-08-16T14:48:30.497442Z",
     "iopub.status.idle": "2023-08-16T14:48:32.718355Z",
     "shell.execute_reply": "2023-08-16T14:48:32.716880Z"
    },
    "papermill": {
     "duration": 2.236273,
     "end_time": "2023-08-16T14:48:32.721298",
     "exception": false,
     "start_time": "2023-08-16T14:48:30.485025",
     "status": "completed"
    },
    "tags": []
   },
   "outputs": [
    {
     "data": {
      "text/html": [
       "<table class=\"dataframe\">\n",
       "<caption>A data.frame: 2 × 2</caption>\n",
       "<thead>\n",
       "\t<tr><th scope=col>all_trips_v2$member_casual</th><th scope=col>all_trips_v2$ride_length_min</th></tr>\n",
       "\t<tr><th scope=col>&lt;chr&gt;</th><th scope=col>&lt;dbl&gt;</th></tr>\n",
       "</thead>\n",
       "<tbody>\n",
       "\t<tr><td>casual</td><td>32035.450</td></tr>\n",
       "\t<tr><td>member</td><td> 1497.867</td></tr>\n",
       "</tbody>\n",
       "</table>\n"
      ],
      "text/latex": [
       "A data.frame: 2 × 2\n",
       "\\begin{tabular}{ll}\n",
       " all\\_trips\\_v2\\$member\\_casual & all\\_trips\\_v2\\$ride\\_length\\_min\\\\\n",
       " <chr> & <dbl>\\\\\n",
       "\\hline\n",
       "\t casual & 32035.450\\\\\n",
       "\t member &  1497.867\\\\\n",
       "\\end{tabular}\n"
      ],
      "text/markdown": [
       "\n",
       "A data.frame: 2 × 2\n",
       "\n",
       "| all_trips_v2$member_casual &lt;chr&gt; | all_trips_v2$ride_length_min &lt;dbl&gt; |\n",
       "|---|---|\n",
       "| casual | 32035.450 |\n",
       "| member |  1497.867 |\n",
       "\n"
      ],
      "text/plain": [
       "  all_trips_v2$member_casual all_trips_v2$ride_length_min\n",
       "1 casual                     32035.450                   \n",
       "2 member                      1497.867                   "
      ]
     },
     "metadata": {},
     "output_type": "display_data"
    }
   ],
   "source": [
    "aggregate(all_trips_v2$ride_length_min ~ all_trips_v2$member_casual, FUN = max)"
   ]
  },
  {
   "cell_type": "markdown",
   "id": "c30fe308",
   "metadata": {
    "papermill": {
     "duration": 0.01077,
     "end_time": "2023-08-16T14:48:32.742892",
     "exception": false,
     "start_time": "2023-08-16T14:48:32.732122",
     "status": "completed"
    },
    "tags": []
   },
   "source": [
    "## Min:"
   ]
  },
  {
   "cell_type": "code",
   "execution_count": 7,
   "id": "91333401",
   "metadata": {
    "execution": {
     "iopub.execute_input": "2023-08-16T14:48:32.767802Z",
     "iopub.status.busy": "2023-08-16T14:48:32.766458Z",
     "iopub.status.idle": "2023-08-16T14:48:34.672373Z",
     "shell.execute_reply": "2023-08-16T14:48:34.670881Z"
    },
    "papermill": {
     "duration": 1.920539,
     "end_time": "2023-08-16T14:48:34.674192",
     "exception": false,
     "start_time": "2023-08-16T14:48:32.753653",
     "status": "completed"
    },
    "tags": []
   },
   "outputs": [
    {
     "data": {
      "text/html": [
       "<table class=\"dataframe\">\n",
       "<caption>A data.frame: 2 × 2</caption>\n",
       "<thead>\n",
       "\t<tr><th scope=col>all_trips_v2$member_casual</th><th scope=col>all_trips_v2$ride_length_min</th></tr>\n",
       "\t<tr><th scope=col>&lt;chr&gt;</th><th scope=col>&lt;dbl&gt;</th></tr>\n",
       "</thead>\n",
       "<tbody>\n",
       "\t<tr><td>casual</td><td>0</td></tr>\n",
       "\t<tr><td>member</td><td>0</td></tr>\n",
       "</tbody>\n",
       "</table>\n"
      ],
      "text/latex": [
       "A data.frame: 2 × 2\n",
       "\\begin{tabular}{ll}\n",
       " all\\_trips\\_v2\\$member\\_casual & all\\_trips\\_v2\\$ride\\_length\\_min\\\\\n",
       " <chr> & <dbl>\\\\\n",
       "\\hline\n",
       "\t casual & 0\\\\\n",
       "\t member & 0\\\\\n",
       "\\end{tabular}\n"
      ],
      "text/markdown": [
       "\n",
       "A data.frame: 2 × 2\n",
       "\n",
       "| all_trips_v2$member_casual &lt;chr&gt; | all_trips_v2$ride_length_min &lt;dbl&gt; |\n",
       "|---|---|\n",
       "| casual | 0 |\n",
       "| member | 0 |\n",
       "\n"
      ],
      "text/plain": [
       "  all_trips_v2$member_casual all_trips_v2$ride_length_min\n",
       "1 casual                     0                           \n",
       "2 member                     0                           "
      ]
     },
     "metadata": {},
     "output_type": "display_data"
    }
   ],
   "source": [
    "aggregate(all_trips_v2$ride_length_min ~ all_trips_v2$member_casual, FUN = min)"
   ]
  },
  {
   "cell_type": "code",
   "execution_count": 8,
   "id": "26b1502d",
   "metadata": {
    "execution": {
     "iopub.execute_input": "2023-08-16T14:48:34.701185Z",
     "iopub.status.busy": "2023-08-16T14:48:34.699884Z",
     "iopub.status.idle": "2023-08-16T14:48:37.651770Z",
     "shell.execute_reply": "2023-08-16T14:48:37.650523Z"
    },
    "papermill": {
     "duration": 2.968329,
     "end_time": "2023-08-16T14:48:37.654215",
     "exception": false,
     "start_time": "2023-08-16T14:48:34.685886",
     "status": "completed"
    },
    "tags": []
   },
   "outputs": [
    {
     "data": {
      "text/html": [
       "<table class=\"dataframe\">\n",
       "<caption>A data.frame: 14 × 3</caption>\n",
       "<thead>\n",
       "\t<tr><th scope=col>all_trips_v2$member_casual</th><th scope=col>all_trips_v2$day_of_week</th><th scope=col>all_trips_v2$ride_length_min</th></tr>\n",
       "\t<tr><th scope=col>&lt;chr&gt;</th><th scope=col>&lt;ord&gt;</th><th scope=col>&lt;dbl&gt;</th></tr>\n",
       "</thead>\n",
       "<tbody>\n",
       "\t<tr><td>casual</td><td>Sunday   </td><td>25.76189</td></tr>\n",
       "\t<tr><td>member</td><td>Sunday   </td><td>13.42435</td></tr>\n",
       "\t<tr><td>casual</td><td>Monday   </td><td>22.49960</td></tr>\n",
       "\t<tr><td>member</td><td>Monday   </td><td>11.53682</td></tr>\n",
       "\t<tr><td>casual</td><td>Tuesday  </td><td>19.96077</td></tr>\n",
       "\t<tr><td>member</td><td>Tuesday  </td><td>11.53241</td></tr>\n",
       "\t<tr><td>casual</td><td>Wednesday</td><td>19.37181</td></tr>\n",
       "\t<tr><td>member</td><td>Wednesday</td><td>11.59861</td></tr>\n",
       "\t<tr><td>casual</td><td>Thursday </td><td>19.69313</td></tr>\n",
       "\t<tr><td>member</td><td>Thursday </td><td>11.62930</td></tr>\n",
       "\t<tr><td>casual</td><td>Friday   </td><td>21.70055</td></tr>\n",
       "\t<tr><td>member</td><td>Friday   </td><td>11.95196</td></tr>\n",
       "\t<tr><td>casual</td><td>Saturday </td><td>25.55547</td></tr>\n",
       "\t<tr><td>member</td><td>Saturday </td><td>13.70281</td></tr>\n",
       "</tbody>\n",
       "</table>\n"
      ],
      "text/latex": [
       "A data.frame: 14 × 3\n",
       "\\begin{tabular}{lll}\n",
       " all\\_trips\\_v2\\$member\\_casual & all\\_trips\\_v2\\$day\\_of\\_week & all\\_trips\\_v2\\$ride\\_length\\_min\\\\\n",
       " <chr> & <ord> & <dbl>\\\\\n",
       "\\hline\n",
       "\t casual & Sunday    & 25.76189\\\\\n",
       "\t member & Sunday    & 13.42435\\\\\n",
       "\t casual & Monday    & 22.49960\\\\\n",
       "\t member & Monday    & 11.53682\\\\\n",
       "\t casual & Tuesday   & 19.96077\\\\\n",
       "\t member & Tuesday   & 11.53241\\\\\n",
       "\t casual & Wednesday & 19.37181\\\\\n",
       "\t member & Wednesday & 11.59861\\\\\n",
       "\t casual & Thursday  & 19.69313\\\\\n",
       "\t member & Thursday  & 11.62930\\\\\n",
       "\t casual & Friday    & 21.70055\\\\\n",
       "\t member & Friday    & 11.95196\\\\\n",
       "\t casual & Saturday  & 25.55547\\\\\n",
       "\t member & Saturday  & 13.70281\\\\\n",
       "\\end{tabular}\n"
      ],
      "text/markdown": [
       "\n",
       "A data.frame: 14 × 3\n",
       "\n",
       "| all_trips_v2$member_casual &lt;chr&gt; | all_trips_v2$day_of_week &lt;ord&gt; | all_trips_v2$ride_length_min &lt;dbl&gt; |\n",
       "|---|---|---|\n",
       "| casual | Sunday    | 25.76189 |\n",
       "| member | Sunday    | 13.42435 |\n",
       "| casual | Monday    | 22.49960 |\n",
       "| member | Monday    | 11.53682 |\n",
       "| casual | Tuesday   | 19.96077 |\n",
       "| member | Tuesday   | 11.53241 |\n",
       "| casual | Wednesday | 19.37181 |\n",
       "| member | Wednesday | 11.59861 |\n",
       "| casual | Thursday  | 19.69313 |\n",
       "| member | Thursday  | 11.62930 |\n",
       "| casual | Friday    | 21.70055 |\n",
       "| member | Friday    | 11.95196 |\n",
       "| casual | Saturday  | 25.55547 |\n",
       "| member | Saturday  | 13.70281 |\n",
       "\n"
      ],
      "text/plain": [
       "   all_trips_v2$member_casual all_trips_v2$day_of_week\n",
       "1  casual                     Sunday                  \n",
       "2  member                     Sunday                  \n",
       "3  casual                     Monday                  \n",
       "4  member                     Monday                  \n",
       "5  casual                     Tuesday                 \n",
       "6  member                     Tuesday                 \n",
       "7  casual                     Wednesday               \n",
       "8  member                     Wednesday               \n",
       "9  casual                     Thursday                \n",
       "10 member                     Thursday                \n",
       "11 casual                     Friday                  \n",
       "12 member                     Friday                  \n",
       "13 casual                     Saturday                \n",
       "14 member                     Saturday                \n",
       "   all_trips_v2$ride_length_min\n",
       "1  25.76189                    \n",
       "2  13.42435                    \n",
       "3  22.49960                    \n",
       "4  11.53682                    \n",
       "5  19.96077                    \n",
       "6  11.53241                    \n",
       "7  19.37181                    \n",
       "8  11.59861                    \n",
       "9  19.69313                    \n",
       "10 11.62930                    \n",
       "11 21.70055                    \n",
       "12 11.95196                    \n",
       "13 25.55547                    \n",
       "14 13.70281                    "
      ]
     },
     "metadata": {},
     "output_type": "display_data"
    }
   ],
   "source": [
    "all_trips_v2$day_of_week <- ordered(all_trips_v2$day_of_week, levels=c(\"Sunday\", \"Monday\", \"Tuesday\", \"Wednesday\", \"Thursday\", \"Friday\", \"Saturday\"))\n",
    "aggregate(all_trips_v2$ride_length_min ~ all_trips_v2$member_casual + all_trips_v2$day_of_week, FUN = mean)"
   ]
  },
  {
   "cell_type": "markdown",
   "id": "f0825d10",
   "metadata": {
    "papermill": {
     "duration": 0.011586,
     "end_time": "2023-08-16T14:48:37.677375",
     "exception": false,
     "start_time": "2023-08-16T14:48:37.665789",
     "status": "completed"
    },
    "tags": []
   },
   "source": [
    "# Analysis\n",
    "\n",
    "Let's prepare a small dataset for further analysis.\n",
    "\n",
    "We will use information about the number of rides and average duration of trips per day of the week, grouped by our 2 categories: membership holders and casual users.\n",
    "\n",
    "Let's have a look at our new dataset."
   ]
  },
  {
   "cell_type": "code",
   "execution_count": 9,
   "id": "f26f39e0",
   "metadata": {
    "execution": {
     "iopub.execute_input": "2023-08-16T14:48:37.703079Z",
     "iopub.status.busy": "2023-08-16T14:48:37.701602Z",
     "iopub.status.idle": "2023-08-16T14:48:41.143008Z",
     "shell.execute_reply": "2023-08-16T14:48:41.141436Z"
    },
    "papermill": {
     "duration": 3.45717,
     "end_time": "2023-08-16T14:48:41.145661",
     "exception": false,
     "start_time": "2023-08-16T14:48:37.688491",
     "status": "completed"
    },
    "tags": []
   },
   "outputs": [
    {
     "name": "stderr",
     "output_type": "stream",
     "text": [
      "\u001b[1m\u001b[22m`summarise()` has grouped output by 'member_casual'. You can override using the\n",
      "`.groups` argument.\n"
     ]
    }
   ],
   "source": [
    "casual_member_trips <- all_trips_v2 %>% \n",
    "  mutate(weekday = wday(started_at, label = TRUE)) %>%  #creates weekday field using wday()\n",
    "  group_by(member_casual, weekday) %>%  #groups by usertype and weekday\n",
    "  summarise(number_of_rides = n()\t\t\t\t\t\t\t#calculates the number of rides and average duration \n",
    "            ,average_duration = mean(ride_length_min)) %>% \t\t# calculates the average duration\n",
    "  arrange(member_casual, weekday) \t\t\t\t\t\t\t\t# sorts\n"
   ]
  },
  {
   "cell_type": "markdown",
   "id": "80724cf0",
   "metadata": {
    "papermill": {
     "duration": 0.011203,
     "end_time": "2023-08-16T14:48:41.168949",
     "exception": false,
     "start_time": "2023-08-16T14:48:41.157746",
     "status": "completed"
    },
    "tags": []
   },
   "source": [
    "## Data subset"
   ]
  },
  {
   "cell_type": "code",
   "execution_count": 10,
   "id": "98cd6553",
   "metadata": {
    "execution": {
     "iopub.execute_input": "2023-08-16T14:48:41.195940Z",
     "iopub.status.busy": "2023-08-16T14:48:41.194376Z",
     "iopub.status.idle": "2023-08-16T14:48:41.218049Z",
     "shell.execute_reply": "2023-08-16T14:48:41.216524Z"
    },
    "papermill": {
     "duration": 0.038725,
     "end_time": "2023-08-16T14:48:41.219777",
     "exception": false,
     "start_time": "2023-08-16T14:48:41.181052",
     "status": "completed"
    },
    "tags": []
   },
   "outputs": [
    {
     "data": {
      "text/html": [
       "<table class=\"dataframe\">\n",
       "<caption>A paged_df: 14 × 4</caption>\n",
       "<thead>\n",
       "\t<tr><th scope=col>member_casual</th><th scope=col>weekday</th><th scope=col>number_of_rides</th><th scope=col>average_duration</th></tr>\n",
       "\t<tr><th scope=col>&lt;chr&gt;</th><th scope=col>&lt;ord&gt;</th><th scope=col>&lt;int&gt;</th><th scope=col>&lt;dbl&gt;</th></tr>\n",
       "</thead>\n",
       "<tbody>\n",
       "\t<tr><td>casual</td><td>Sun</td><td>267191</td><td>25.76189</td></tr>\n",
       "\t<tr><td>casual</td><td>Mon</td><td>189316</td><td>22.49960</td></tr>\n",
       "\t<tr><td>casual</td><td>Tue</td><td>190148</td><td>19.96077</td></tr>\n",
       "\t<tr><td>casual</td><td>Wed</td><td>204943</td><td>19.37181</td></tr>\n",
       "\t<tr><td>casual</td><td>Thu</td><td>219864</td><td>19.69313</td></tr>\n",
       "\t<tr><td>casual</td><td>Fri</td><td>254726</td><td>21.70055</td></tr>\n",
       "\t<tr><td>casual</td><td>Sat</td><td>349415</td><td>25.55547</td></tr>\n",
       "\t<tr><td>member</td><td>Sun</td><td>295398</td><td>13.42435</td></tr>\n",
       "\t<tr><td>member</td><td>Mon</td><td>376537</td><td>11.53682</td></tr>\n",
       "\t<tr><td>member</td><td>Tue</td><td>432668</td><td>11.53241</td></tr>\n",
       "\t<tr><td>member</td><td>Wed</td><td>446149</td><td>11.59861</td></tr>\n",
       "\t<tr><td>member</td><td>Thu</td><td>438570</td><td>11.62930</td></tr>\n",
       "\t<tr><td>member</td><td>Fri</td><td>395645</td><td>11.95196</td></tr>\n",
       "\t<tr><td>member</td><td>Sat</td><td>348453</td><td>13.70281</td></tr>\n",
       "</tbody>\n",
       "</table>\n"
      ],
      "text/latex": [
       "A paged\\_df: 14 × 4\n",
       "\\begin{tabular}{llll}\n",
       " member\\_casual & weekday & number\\_of\\_rides & average\\_duration\\\\\n",
       " <chr> & <ord> & <int> & <dbl>\\\\\n",
       "\\hline\n",
       "\t casual & Sun & 267191 & 25.76189\\\\\n",
       "\t casual & Mon & 189316 & 22.49960\\\\\n",
       "\t casual & Tue & 190148 & 19.96077\\\\\n",
       "\t casual & Wed & 204943 & 19.37181\\\\\n",
       "\t casual & Thu & 219864 & 19.69313\\\\\n",
       "\t casual & Fri & 254726 & 21.70055\\\\\n",
       "\t casual & Sat & 349415 & 25.55547\\\\\n",
       "\t member & Sun & 295398 & 13.42435\\\\\n",
       "\t member & Mon & 376537 & 11.53682\\\\\n",
       "\t member & Tue & 432668 & 11.53241\\\\\n",
       "\t member & Wed & 446149 & 11.59861\\\\\n",
       "\t member & Thu & 438570 & 11.62930\\\\\n",
       "\t member & Fri & 395645 & 11.95196\\\\\n",
       "\t member & Sat & 348453 & 13.70281\\\\\n",
       "\\end{tabular}\n"
      ],
      "text/markdown": [
       "\n",
       "A paged_df: 14 × 4\n",
       "\n",
       "| member_casual &lt;chr&gt; | weekday &lt;ord&gt; | number_of_rides &lt;int&gt; | average_duration &lt;dbl&gt; |\n",
       "|---|---|---|---|\n",
       "| casual | Sun | 267191 | 25.76189 |\n",
       "| casual | Mon | 189316 | 22.49960 |\n",
       "| casual | Tue | 190148 | 19.96077 |\n",
       "| casual | Wed | 204943 | 19.37181 |\n",
       "| casual | Thu | 219864 | 19.69313 |\n",
       "| casual | Fri | 254726 | 21.70055 |\n",
       "| casual | Sat | 349415 | 25.55547 |\n",
       "| member | Sun | 295398 | 13.42435 |\n",
       "| member | Mon | 376537 | 11.53682 |\n",
       "| member | Tue | 432668 | 11.53241 |\n",
       "| member | Wed | 446149 | 11.59861 |\n",
       "| member | Thu | 438570 | 11.62930 |\n",
       "| member | Fri | 395645 | 11.95196 |\n",
       "| member | Sat | 348453 | 13.70281 |\n",
       "\n"
      ],
      "text/plain": [
       "   member_casual weekday number_of_rides average_duration\n",
       "1  casual        Sun     267191          25.76189        \n",
       "2  casual        Mon     189316          22.49960        \n",
       "3  casual        Tue     190148          19.96077        \n",
       "4  casual        Wed     204943          19.37181        \n",
       "5  casual        Thu     219864          19.69313        \n",
       "6  casual        Fri     254726          21.70055        \n",
       "7  casual        Sat     349415          25.55547        \n",
       "8  member        Sun     295398          13.42435        \n",
       "9  member        Mon     376537          11.53682        \n",
       "10 member        Tue     432668          11.53241        \n",
       "11 member        Wed     446149          11.59861        \n",
       "12 member        Thu     438570          11.62930        \n",
       "13 member        Fri     395645          11.95196        \n",
       "14 member        Sat     348453          13.70281        "
      ]
     },
     "metadata": {},
     "output_type": "display_data"
    }
   ],
   "source": [
    "paged_table(casual_member_trips, options = list(rows.print = 15))"
   ]
  },
  {
   "cell_type": "markdown",
   "id": "08473d6f",
   "metadata": {
    "papermill": {
     "duration": 0.011341,
     "end_time": "2023-08-16T14:48:41.242426",
     "exception": false,
     "start_time": "2023-08-16T14:48:41.231085",
     "status": "completed"
    },
    "tags": []
   },
   "source": [
    "## Let's visualize the number of rides by rider type"
   ]
  },
  {
   "cell_type": "code",
   "execution_count": 11,
   "id": "bce79c90",
   "metadata": {
    "execution": {
     "iopub.execute_input": "2023-08-16T14:48:41.268463Z",
     "iopub.status.busy": "2023-08-16T14:48:41.266995Z",
     "iopub.status.idle": "2023-08-16T14:48:41.808836Z",
     "shell.execute_reply": "2023-08-16T14:48:41.807278Z"
    },
    "papermill": {
     "duration": 0.557747,
     "end_time": "2023-08-16T14:48:41.811261",
     "exception": false,
     "start_time": "2023-08-16T14:48:41.253514",
     "status": "completed"
    },
    "tags": []
   },
   "outputs": [
    {
     "data": {
      "image/png": "[encoded data removed]"
     },
     "metadata": {
      "image/png": {
       "height": 420,
       "width": 420
      }
     },
     "output_type": "display_data"
    }
   ],
   "source": [
    "casual_member_trips %>% \n",
    "  ggplot(aes(x = weekday, y = number_of_rides, fill = member_casual)) +\n",
    "  geom_col(position = \"dodge\")"
   ]
  },
  {
   "cell_type": "markdown",
   "id": "7b9fdae4",
   "metadata": {
    "papermill": {
     "duration": 0.011573,
     "end_time": "2023-08-16T14:48:41.834827",
     "exception": false,
     "start_time": "2023-08-16T14:48:41.823254",
     "status": "completed"
    },
    "tags": []
   },
   "source": [
    "## Visualization for the average duration (in minutes)"
   ]
  },
  {
   "cell_type": "code",
   "execution_count": 12,
   "id": "7dad3c4d",
   "metadata": {
    "execution": {
     "iopub.execute_input": "2023-08-16T14:48:41.861564Z",
     "iopub.status.busy": "2023-08-16T14:48:41.860194Z",
     "iopub.status.idle": "2023-08-16T14:48:42.162077Z",
     "shell.execute_reply": "2023-08-16T14:48:42.160563Z"
    },
    "papermill": {
     "duration": 0.317533,
     "end_time": "2023-08-16T14:48:42.164027",
     "exception": false,
     "start_time": "2023-08-16T14:48:41.846494",
     "status": "completed"
    },
    "tags": []
   },
   "outputs": [
    {
     "data": {
      "image/png": "[encoded data removed]"
     },
     "metadata": {
      "image/png": {
       "height": 420,
       "width": 420
      }
     },
     "output_type": "display_data"
    }
   ],
   "source": [
    "casual_member_trips %>% \n",
    "  ggplot(aes(x = weekday, y = average_duration, fill = member_casual)) +\n",
    "  geom_col(position = \"dodge\")"
   ]
  },
  {
   "cell_type": "markdown",
   "id": "42b746e3",
   "metadata": {
    "papermill": {
     "duration": 0.012315,
     "end_time": "2023-08-16T14:48:42.188653",
     "exception": false,
     "start_time": "2023-08-16T14:48:42.176338",
     "status": "completed"
    },
    "tags": []
   },
   "source": [
    "## Total amount of time (total = average duration * number of rides, in hours)"
   ]
  },
  {
   "cell_type": "code",
   "execution_count": 13,
   "id": "8129d50f",
   "metadata": {
    "execution": {
     "iopub.execute_input": "2023-08-16T14:48:42.217566Z",
     "iopub.status.busy": "2023-08-16T14:48:42.216151Z",
     "iopub.status.idle": "2023-08-16T14:48:42.228639Z",
     "shell.execute_reply": "2023-08-16T14:48:42.226894Z"
    },
    "papermill": {
     "duration": 0.030429,
     "end_time": "2023-08-16T14:48:42.231545",
     "exception": false,
     "start_time": "2023-08-16T14:48:42.201116",
     "status": "completed"
    },
    "tags": []
   },
   "outputs": [],
   "source": [
    "casual_member_trips$sum_ride_length <- casual_member_trips$average_duration * casual_member_trips$number_of_rides / 60"
   ]
  },
  {
   "cell_type": "code",
   "execution_count": 14,
   "id": "6d583b65",
   "metadata": {
    "execution": {
     "iopub.execute_input": "2023-08-16T14:48:42.260051Z",
     "iopub.status.busy": "2023-08-16T14:48:42.258474Z",
     "iopub.status.idle": "2023-08-16T14:48:42.542190Z",
     "shell.execute_reply": "2023-08-16T14:48:42.540462Z"
    },
    "papermill": {
     "duration": 0.299966,
     "end_time": "2023-08-16T14:48:42.543992",
     "exception": false,
     "start_time": "2023-08-16T14:48:42.244026",
     "status": "completed"
    },
    "tags": []
   },
   "outputs": [
    {
     "data": {
      "image/png": "[encoded data removed]"
     },
     "metadata": {
      "image/png": {
       "height": 420,
       "width": 420
      }
     },
     "output_type": "display_data"
    }
   ],
   "source": [
    "casual_member_trips %>% \n",
    "  ggplot(aes(x = weekday, y = sum_ride_length, fill = member_casual)) +\n",
    "  geom_col(position = \"dodge\")"
   ]
  },
  {
   "cell_type": "markdown",
   "id": "d36ed1e2",
   "metadata": {
    "papermill": {
     "duration": 0.013063,
     "end_time": "2023-08-16T14:48:42.569879",
     "exception": false,
     "start_time": "2023-08-16T14:48:42.556816",
     "status": "completed"
    },
    "tags": []
   },
   "source": [
    "## Conclusions\n",
    "\n",
    "During working days membership holders have twice more trips, but they are shorter than casual users' (also twice).\n",
    "\n",
    "On weekends they have almost the same amount of trips, but casual users spend more time on each trip (2.5 times more).\n",
    "\n",
    "If we look at the plot with summary duration for both categories, we can see, that on Monday-Friday membership holders and casual users spent the same amount of time on their trips.\n",
    "\n",
    "But on Saturday-Sunday casual customers spend much more time (twice more) on their trips."
   ]
  },
  {
   "cell_type": "markdown",
   "id": "1d0e8484",
   "metadata": {
    "papermill": {
     "duration": 0.048433,
     "end_time": "2023-08-16T14:48:42.630827",
     "exception": false,
     "start_time": "2023-08-16T14:48:42.582394",
     "status": "completed"
    },
    "tags": []
   },
   "source": [
    "## New data subset\n",
    "\n",
    "Let's prepare a new dataset.\n",
    "\n",
    "We will also use information about the number of rides and average duration of trips, but this time we want to analyze changes during the year, grouped by our 2 categories: membership holders and casual users.\n",
    "\n",
    "Let's have a look at our new dataset."
   ]
  },
  {
   "cell_type": "code",
   "execution_count": 15,
   "id": "6e02dd4d",
   "metadata": {
    "execution": {
     "iopub.execute_input": "2023-08-16T14:48:42.659948Z",
     "iopub.status.busy": "2023-08-16T14:48:42.658227Z",
     "iopub.status.idle": "2023-08-16T14:48:42.941112Z",
     "shell.execute_reply": "2023-08-16T14:48:42.939328Z"
    },
    "papermill": {
     "duration": 0.299571,
     "end_time": "2023-08-16T14:48:42.943167",
     "exception": false,
     "start_time": "2023-08-16T14:48:42.643596",
     "status": "completed"
    },
    "tags": []
   },
   "outputs": [
    {
     "name": "stderr",
     "output_type": "stream",
     "text": [
      "\u001b[1m\u001b[22m`summarise()` has grouped output by 'member_casual'. You can override using the\n",
      "`.groups` argument.\n"
     ]
    }
   ],
   "source": [
    "casual_member_month_trips <- all_trips_v2 %>% \n",
    "  group_by(member_casual, month) %>%  #groups by usertype and month\n",
    "  summarise(number_of_rides = n()\t\t\t\t\t\t\t#calculates the number of rides and average duration \n",
    "            ,average_duration = mean(ride_length_min)) %>% \t\t# calculates the average duration\n",
    "  arrange(member_casual, month)"
   ]
  },
  {
   "cell_type": "markdown",
   "id": "82af67cb",
   "metadata": {
    "papermill": {
     "duration": 0.012783,
     "end_time": "2023-08-16T14:48:42.968593",
     "exception": false,
     "start_time": "2023-08-16T14:48:42.955810",
     "status": "completed"
    },
    "tags": []
   },
   "source": [
    "## Data subset (for casual users)"
   ]
  },
  {
   "cell_type": "code",
   "execution_count": 16,
   "id": "88839584",
   "metadata": {
    "execution": {
     "iopub.execute_input": "2023-08-16T14:48:42.999708Z",
     "iopub.status.busy": "2023-08-16T14:48:42.998056Z",
     "iopub.status.idle": "2023-08-16T14:48:43.029682Z",
     "shell.execute_reply": "2023-08-16T14:48:43.027889Z"
    },
    "papermill": {
     "duration": 0.050625,
     "end_time": "2023-08-16T14:48:43.032591",
     "exception": false,
     "start_time": "2023-08-16T14:48:42.981966",
     "status": "completed"
    },
    "tags": []
   },
   "outputs": [
    {
     "data": {
      "text/html": [
       "<table class=\"dataframe\">\n",
       "<caption>A paged_df: 12 × 4</caption>\n",
       "<thead>\n",
       "\t<tr><th scope=col>member_casual</th><th scope=col>month</th><th scope=col>number_of_rides</th><th scope=col>average_duration</th></tr>\n",
       "\t<tr><th scope=col>&lt;chr&gt;</th><th scope=col>&lt;chr&gt;</th><th scope=col>&lt;int&gt;</th><th scope=col>&lt;dbl&gt;</th></tr>\n",
       "</thead>\n",
       "<tbody>\n",
       "\t<tr><td>casual</td><td>01</td><td> 29621</td><td>14.87888</td></tr>\n",
       "\t<tr><td>casual</td><td>02</td><td> 32776</td><td>17.67230</td></tr>\n",
       "\t<tr><td>casual</td><td>03</td><td> 46792</td><td>16.71918</td></tr>\n",
       "\t<tr><td>casual</td><td>04</td><td>110537</td><td>22.62086</td></tr>\n",
       "\t<tr><td>casual</td><td>05</td><td>177037</td><td>24.52475</td></tr>\n",
       "\t<tr><td>casual</td><td>06</td><td>219803</td><td>24.07359</td></tr>\n",
       "\t<tr><td>casual</td><td>07</td><td>311670</td><td>25.09333</td></tr>\n",
       "\t<tr><td>casual</td><td>08</td><td>270089</td><td>23.28440</td></tr>\n",
       "\t<tr><td>casual</td><td>09</td><td>220913</td><td>21.80400</td></tr>\n",
       "\t<tr><td>casual</td><td>10</td><td>151324</td><td>20.46782</td></tr>\n",
       "\t<tr><td>casual</td><td>11</td><td> 73536</td><td>17.24603</td></tr>\n",
       "\t<tr><td>casual</td><td>12</td><td> 31505</td><td>14.84043</td></tr>\n",
       "</tbody>\n",
       "</table>\n"
      ],
      "text/latex": [
       "A paged\\_df: 12 × 4\n",
       "\\begin{tabular}{llll}\n",
       " member\\_casual & month & number\\_of\\_rides & average\\_duration\\\\\n",
       " <chr> & <chr> & <int> & <dbl>\\\\\n",
       "\\hline\n",
       "\t casual & 01 &  29621 & 14.87888\\\\\n",
       "\t casual & 02 &  32776 & 17.67230\\\\\n",
       "\t casual & 03 &  46792 & 16.71918\\\\\n",
       "\t casual & 04 & 110537 & 22.62086\\\\\n",
       "\t casual & 05 & 177037 & 24.52475\\\\\n",
       "\t casual & 06 & 219803 & 24.07359\\\\\n",
       "\t casual & 07 & 311670 & 25.09333\\\\\n",
       "\t casual & 08 & 270089 & 23.28440\\\\\n",
       "\t casual & 09 & 220913 & 21.80400\\\\\n",
       "\t casual & 10 & 151324 & 20.46782\\\\\n",
       "\t casual & 11 &  73536 & 17.24603\\\\\n",
       "\t casual & 12 &  31505 & 14.84043\\\\\n",
       "\\end{tabular}\n"
      ],
      "text/markdown": [
       "\n",
       "A paged_df: 12 × 4\n",
       "\n",
       "| member_casual &lt;chr&gt; | month &lt;chr&gt; | number_of_rides &lt;int&gt; | average_duration &lt;dbl&gt; |\n",
       "|---|---|---|---|\n",
       "| casual | 01 |  29621 | 14.87888 |\n",
       "| casual | 02 |  32776 | 17.67230 |\n",
       "| casual | 03 |  46792 | 16.71918 |\n",
       "| casual | 04 | 110537 | 22.62086 |\n",
       "| casual | 05 | 177037 | 24.52475 |\n",
       "| casual | 06 | 219803 | 24.07359 |\n",
       "| casual | 07 | 311670 | 25.09333 |\n",
       "| casual | 08 | 270089 | 23.28440 |\n",
       "| casual | 09 | 220913 | 21.80400 |\n",
       "| casual | 10 | 151324 | 20.46782 |\n",
       "| casual | 11 |  73536 | 17.24603 |\n",
       "| casual | 12 |  31505 | 14.84043 |\n",
       "\n"
      ],
      "text/plain": [
       "   member_casual month number_of_rides average_duration\n",
       "1  casual        01     29621          14.87888        \n",
       "2  casual        02     32776          17.67230        \n",
       "3  casual        03     46792          16.71918        \n",
       "4  casual        04    110537          22.62086        \n",
       "5  casual        05    177037          24.52475        \n",
       "6  casual        06    219803          24.07359        \n",
       "7  casual        07    311670          25.09333        \n",
       "8  casual        08    270089          23.28440        \n",
       "9  casual        09    220913          21.80400        \n",
       "10 casual        10    151324          20.46782        \n",
       "11 casual        11     73536          17.24603        \n",
       "12 casual        12     31505          14.84043        "
      ]
     },
     "metadata": {},
     "output_type": "display_data"
    }
   ],
   "source": [
    "paged_table(casual_member_month_trips %>% filter(member_casual == \"casual\"), options = list(rows.print = 25))"
   ]
  },
  {
   "cell_type": "markdown",
   "id": "b9c3e2e3",
   "metadata": {
    "papermill": {
     "duration": 0.012723,
     "end_time": "2023-08-16T14:48:43.059315",
     "exception": false,
     "start_time": "2023-08-16T14:48:43.046592",
     "status": "completed"
    },
    "tags": []
   },
   "source": [
    "## Data subset (for membership holders)"
   ]
  },
  {
   "cell_type": "code",
   "execution_count": 17,
   "id": "d3d41e0e",
   "metadata": {
    "execution": {
     "iopub.execute_input": "2023-08-16T14:48:43.089177Z",
     "iopub.status.busy": "2023-08-16T14:48:43.087465Z",
     "iopub.status.idle": "2023-08-16T14:48:43.117492Z",
     "shell.execute_reply": "2023-08-16T14:48:43.115698Z"
    },
    "papermill": {
     "duration": 0.047436,
     "end_time": "2023-08-16T14:48:43.119851",
     "exception": false,
     "start_time": "2023-08-16T14:48:43.072415",
     "status": "completed"
    },
    "tags": []
   },
   "outputs": [
    {
     "data": {
      "text/html": [
       "<table class=\"dataframe\">\n",
       "<caption>A paged_df: 12 × 4</caption>\n",
       "<thead>\n",
       "\t<tr><th scope=col>member_casual</th><th scope=col>month</th><th scope=col>number_of_rides</th><th scope=col>average_duration</th></tr>\n",
       "\t<tr><th scope=col>&lt;chr&gt;</th><th scope=col>&lt;chr&gt;</th><th scope=col>&lt;int&gt;</th><th scope=col>&lt;dbl&gt;</th></tr>\n",
       "</thead>\n",
       "<tbody>\n",
       "\t<tr><td>member</td><td>01</td><td>118663</td><td>10.00448</td></tr>\n",
       "\t<tr><td>member</td><td>02</td><td>116784</td><td>10.42200</td></tr>\n",
       "\t<tr><td>member</td><td>03</td><td>153655</td><td>10.17087</td></tr>\n",
       "\t<tr><td>member</td><td>04</td><td>213657</td><td>11.55596</td></tr>\n",
       "\t<tr><td>member</td><td>05</td><td>286185</td><td>12.69381</td></tr>\n",
       "\t<tr><td>member</td><td>06</td><td>314962</td><td>12.94459</td></tr>\n",
       "\t<tr><td>member</td><td>07</td><td>330996</td><td>13.50329</td></tr>\n",
       "\t<tr><td>member</td><td>08</td><td>335224</td><td>13.10607</td></tr>\n",
       "\t<tr><td>member</td><td>09</td><td>314227</td><td>12.62197</td></tr>\n",
       "\t<tr><td>member</td><td>10</td><td>262943</td><td>11.67493</td></tr>\n",
       "\t<tr><td>member</td><td>11</td><td>182226</td><td>10.82731</td></tr>\n",
       "\t<tr><td>member</td><td>12</td><td>103898</td><td>10.20045</td></tr>\n",
       "</tbody>\n",
       "</table>\n"
      ],
      "text/latex": [
       "A paged\\_df: 12 × 4\n",
       "\\begin{tabular}{llll}\n",
       " member\\_casual & month & number\\_of\\_rides & average\\_duration\\\\\n",
       " <chr> & <chr> & <int> & <dbl>\\\\\n",
       "\\hline\n",
       "\t member & 01 & 118663 & 10.00448\\\\\n",
       "\t member & 02 & 116784 & 10.42200\\\\\n",
       "\t member & 03 & 153655 & 10.17087\\\\\n",
       "\t member & 04 & 213657 & 11.55596\\\\\n",
       "\t member & 05 & 286185 & 12.69381\\\\\n",
       "\t member & 06 & 314962 & 12.94459\\\\\n",
       "\t member & 07 & 330996 & 13.50329\\\\\n",
       "\t member & 08 & 335224 & 13.10607\\\\\n",
       "\t member & 09 & 314227 & 12.62197\\\\\n",
       "\t member & 10 & 262943 & 11.67493\\\\\n",
       "\t member & 11 & 182226 & 10.82731\\\\\n",
       "\t member & 12 & 103898 & 10.20045\\\\\n",
       "\\end{tabular}\n"
      ],
      "text/markdown": [
       "\n",
       "A paged_df: 12 × 4\n",
       "\n",
       "| member_casual &lt;chr&gt; | month &lt;chr&gt; | number_of_rides &lt;int&gt; | average_duration &lt;dbl&gt; |\n",
       "|---|---|---|---|\n",
       "| member | 01 | 118663 | 10.00448 |\n",
       "| member | 02 | 116784 | 10.42200 |\n",
       "| member | 03 | 153655 | 10.17087 |\n",
       "| member | 04 | 213657 | 11.55596 |\n",
       "| member | 05 | 286185 | 12.69381 |\n",
       "| member | 06 | 314962 | 12.94459 |\n",
       "| member | 07 | 330996 | 13.50329 |\n",
       "| member | 08 | 335224 | 13.10607 |\n",
       "| member | 09 | 314227 | 12.62197 |\n",
       "| member | 10 | 262943 | 11.67493 |\n",
       "| member | 11 | 182226 | 10.82731 |\n",
       "| member | 12 | 103898 | 10.20045 |\n",
       "\n"
      ],
      "text/plain": [
       "   member_casual month number_of_rides average_duration\n",
       "1  member        01    118663          10.00448        \n",
       "2  member        02    116784          10.42200        \n",
       "3  member        03    153655          10.17087        \n",
       "4  member        04    213657          11.55596        \n",
       "5  member        05    286185          12.69381        \n",
       "6  member        06    314962          12.94459        \n",
       "7  member        07    330996          13.50329        \n",
       "8  member        08    335224          13.10607        \n",
       "9  member        09    314227          12.62197        \n",
       "10 member        10    262943          11.67493        \n",
       "11 member        11    182226          10.82731        \n",
       "12 member        12    103898          10.20045        "
      ]
     },
     "metadata": {},
     "output_type": "display_data"
    }
   ],
   "source": [
    "paged_table(casual_member_month_trips %>% filter(member_casual == \"member\"), options = list(rows.print = 25))"
   ]
  },
  {
   "cell_type": "markdown",
   "id": "cbfbbe53",
   "metadata": {
    "papermill": {
     "duration": 0.013444,
     "end_time": "2023-08-16T14:48:43.146839",
     "exception": false,
     "start_time": "2023-08-16T14:48:43.133395",
     "status": "completed"
    },
    "tags": []
   },
   "source": [
    "## And let's have a look of our new plots.\n",
    "\n",
    "\n",
    "## Number of rides:\n"
   ]
  },
  {
   "cell_type": "code",
   "execution_count": 18,
   "id": "bdb58105",
   "metadata": {
    "execution": {
     "iopub.execute_input": "2023-08-16T14:48:43.178784Z",
     "iopub.status.busy": "2023-08-16T14:48:43.176496Z",
     "iopub.status.idle": "2023-08-16T14:48:43.786694Z",
     "shell.execute_reply": "2023-08-16T14:48:43.785287Z"
    },
    "papermill": {
     "duration": 0.628664,
     "end_time": "2023-08-16T14:48:43.788831",
     "exception": false,
     "start_time": "2023-08-16T14:48:43.160167",
     "status": "completed"
    },
    "tags": []
   },
   "outputs": [
    {
     "data": {
      "image/png": "[encoded data removed]"
     },
     "metadata": {
      "image/png": {
       "height": 420,
       "width": 420
      }
     },
     "output_type": "display_data"
    }
   ],
   "source": [
    "casual_member_month_trips %>% \n",
    "  ggplot(aes(x = month, y = number_of_rides, fill = member_casual)) +\n",
    "  geom_col(position = \"dodge\")"
   ]
  },
  {
   "cell_type": "markdown",
   "id": "cb35ed28",
   "metadata": {
    "papermill": {
     "duration": 0.013446,
     "end_time": "2023-08-16T14:48:43.816489",
     "exception": false,
     "start_time": "2023-08-16T14:48:43.803043",
     "status": "completed"
    },
    "tags": []
   },
   "source": [
    "## Average duration (in minutes)"
   ]
  },
  {
   "cell_type": "code",
   "execution_count": 19,
   "id": "7bea56a1",
   "metadata": {
    "execution": {
     "iopub.execute_input": "2023-08-16T14:48:43.849129Z",
     "iopub.status.busy": "2023-08-16T14:48:43.847665Z",
     "iopub.status.idle": "2023-08-16T14:48:44.118406Z",
     "shell.execute_reply": "2023-08-16T14:48:44.116853Z"
    },
    "papermill": {
     "duration": 0.290454,
     "end_time": "2023-08-16T14:48:44.120621",
     "exception": false,
     "start_time": "2023-08-16T14:48:43.830167",
     "status": "completed"
    },
    "tags": []
   },
   "outputs": [
    {
     "data": {
      "image/png": "[encoded data removed]"
     },
     "metadata": {
      "image/png": {
       "height": 420,
       "width": 420
      }
     },
     "output_type": "display_data"
    }
   ],
   "source": [
    "casual_member_month_trips %>% \n",
    "  ggplot(aes(x = month, y = average_duration, fill = member_casual)) +\n",
    "  geom_col(position = \"dodge\")"
   ]
  },
  {
   "cell_type": "markdown",
   "id": "446572ca",
   "metadata": {
    "papermill": {
     "duration": 0.014216,
     "end_time": "2023-08-16T14:48:44.151067",
     "exception": false,
     "start_time": "2023-08-16T14:48:44.136851",
     "status": "completed"
    },
    "tags": []
   },
   "source": [
    "## Total amount of time (total = average duration * number of rides, in hours)"
   ]
  },
  {
   "cell_type": "code",
   "execution_count": 20,
   "id": "9915710c",
   "metadata": {
    "execution": {
     "iopub.execute_input": "2023-08-16T14:48:44.184917Z",
     "iopub.status.busy": "2023-08-16T14:48:44.183470Z",
     "iopub.status.idle": "2023-08-16T14:48:44.195317Z",
     "shell.execute_reply": "2023-08-16T14:48:44.193831Z"
    },
    "papermill": {
     "duration": 0.032101,
     "end_time": "2023-08-16T14:48:44.198168",
     "exception": false,
     "start_time": "2023-08-16T14:48:44.166067",
     "status": "completed"
    },
    "tags": []
   },
   "outputs": [],
   "source": [
    "casual_member_month_trips$sum_ride_length <- casual_member_month_trips$average_duration * casual_member_month_trips$number_of_rides / 60"
   ]
  },
  {
   "cell_type": "code",
   "execution_count": 21,
   "id": "3f655ae9",
   "metadata": {
    "execution": {
     "iopub.execute_input": "2023-08-16T14:48:44.231857Z",
     "iopub.status.busy": "2023-08-16T14:48:44.229825Z",
     "iopub.status.idle": "2023-08-16T14:48:44.495998Z",
     "shell.execute_reply": "2023-08-16T14:48:44.494479Z"
    },
    "papermill": {
     "duration": 0.285348,
     "end_time": "2023-08-16T14:48:44.498572",
     "exception": false,
     "start_time": "2023-08-16T14:48:44.213224",
     "status": "completed"
    },
    "tags": []
   },
   "outputs": [
    {
     "data": {
      "image/png": "[encoded data removed]"
     },
     "metadata": {
      "image/png": {
       "height": 420,
       "width": 420
      }
     },
     "output_type": "display_data"
    }
   ],
   "source": [
    "casual_member_month_trips %>% \n",
    "  ggplot(aes(x = month, y = sum_ride_length, fill = member_casual)) +\n",
    "  geom_col(position = \"dodge\")"
   ]
  },
  {
   "cell_type": "markdown",
   "id": "5b427d5f",
   "metadata": {
    "papermill": {
     "duration": 0.014775,
     "end_time": "2023-08-16T14:48:44.528879",
     "exception": false,
     "start_time": "2023-08-16T14:48:44.514104",
     "status": "completed"
    },
    "tags": []
   },
   "source": [
    "## Conclusions\n",
    "\n",
    "Statistics during the year look similar for both categories (they both have more trips in summer). \n",
    "\n",
    "But membership holders have more trips per month than casual riders, especially so in winter months (almost 3 times more).\n",
    "\n",
    "But casual users' duration of trips is twice longer than membership holders' (in every month)."
   ]
  },
  {
   "cell_type": "markdown",
   "id": "62e1010e",
   "metadata": {
    "papermill": {
     "duration": 0.01539,
     "end_time": "2023-08-16T14:48:44.558968",
     "exception": false,
     "start_time": "2023-08-16T14:48:44.543578",
     "status": "completed"
    },
    "tags": []
   },
   "source": [
    "## Final dataset \n",
    "\n",
    "Finally, I decided to combine all my findings and prepare one dataset with information about our users, divided by months and type of day (weekday or weekend), so we can have a look at our results in one slide.\n",
    "\n",
    "This time we need just information about the average trip duration because the number of rides and total trip time will not provide useful information."
   ]
  },
  {
   "cell_type": "code",
   "execution_count": 22,
   "id": "c930fbe2",
   "metadata": {
    "execution": {
     "iopub.execute_input": "2023-08-16T14:48:44.594197Z",
     "iopub.status.busy": "2023-08-16T14:48:44.592696Z",
     "iopub.status.idle": "2023-08-16T14:48:48.218068Z",
     "shell.execute_reply": "2023-08-16T14:48:48.216451Z"
    },
    "papermill": {
     "duration": 3.645779,
     "end_time": "2023-08-16T14:48:48.220119",
     "exception": false,
     "start_time": "2023-08-16T14:48:44.574340",
     "status": "completed"
    },
    "tags": []
   },
   "outputs": [
    {
     "name": "stderr",
     "output_type": "stream",
     "text": [
      "\u001b[1m\u001b[22m`summarise()` has grouped output by 'member_casual', 'month'. You can override\n",
      "using the `.groups` argument.\n"
     ]
    }
   ],
   "source": [
    "casual_member_year_trips <- all_trips_v2 %>% \n",
    "  mutate(weekday = wday(started_at, label = TRUE)) %>%  #creates weekday field using wday()\n",
    "  group_by(member_casual, month, weekday) %>%  #groups by usertype and month\n",
    "  summarise(number_of_rides = n()\t\t\t\t\t\t\t#calculates the number of rides and average duration \n",
    "            ,average_duration = mean(ride_length_min)) %>% \t\t# calculates the average duration\n",
    "  arrange(member_casual, month, weekday)"
   ]
  },
  {
   "cell_type": "code",
   "execution_count": 23,
   "id": "53d0e991",
   "metadata": {
    "execution": {
     "iopub.execute_input": "2023-08-16T14:48:48.253378Z",
     "iopub.status.busy": "2023-08-16T14:48:48.252027Z",
     "iopub.status.idle": "2023-08-16T14:48:48.263945Z",
     "shell.execute_reply": "2023-08-16T14:48:48.262426Z"
    },
    "papermill": {
     "duration": 0.031257,
     "end_time": "2023-08-16T14:48:48.266403",
     "exception": false,
     "start_time": "2023-08-16T14:48:48.235146",
     "status": "completed"
    },
    "tags": []
   },
   "outputs": [],
   "source": [
    "casual_member_year_trips$weekday_weekend <- c(1:168)"
   ]
  },
  {
   "cell_type": "code",
   "execution_count": 24,
   "id": "4b033452",
   "metadata": {
    "execution": {
     "iopub.execute_input": "2023-08-16T14:48:48.298422Z",
     "iopub.status.busy": "2023-08-16T14:48:48.297121Z",
     "iopub.status.idle": "2023-08-16T14:48:48.343671Z",
     "shell.execute_reply": "2023-08-16T14:48:48.342164Z"
    },
    "papermill": {
     "duration": 0.065813,
     "end_time": "2023-08-16T14:48:48.346822",
     "exception": false,
     "start_time": "2023-08-16T14:48:48.281009",
     "status": "completed"
    },
    "tags": []
   },
   "outputs": [],
   "source": [
    "for (i in casual_member_year_trips$weekday_weekend) {\n",
    "  a = casual_member_year_trips$weekday[i]\n",
    "  if (a == \"Mon\" | a == \"Tue\" | a == \"Wed\" | a == \"Thu\" | a == \"Fri\"){\n",
    "     casual_member_year_trips$weekday_weekend[i] = \"weekday\"\n",
    "  }\n",
    "  else{\n",
    "     casual_member_year_trips$weekday_weekend[i] = \"weekend\"\n",
    "  }\n",
    "}"
   ]
  },
  {
   "cell_type": "code",
   "execution_count": 25,
   "id": "a1603bbb",
   "metadata": {
    "execution": {
     "iopub.execute_input": "2023-08-16T14:48:48.379179Z",
     "iopub.status.busy": "2023-08-16T14:48:48.377759Z",
     "iopub.status.idle": "2023-08-16T14:48:48.422923Z",
     "shell.execute_reply": "2023-08-16T14:48:48.421449Z"
    },
    "papermill": {
     "duration": 0.064155,
     "end_time": "2023-08-16T14:48:48.425659",
     "exception": false,
     "start_time": "2023-08-16T14:48:48.361504",
     "status": "completed"
    },
    "tags": []
   },
   "outputs": [
    {
     "name": "stderr",
     "output_type": "stream",
     "text": [
      "\u001b[1m\u001b[22m`summarise()` has grouped output by 'member_casual', 'month'. You can override\n",
      "using the `.groups` argument.\n"
     ]
    }
   ],
   "source": [
    "casual_member_year_trips_weekday_weekend <- casual_member_year_trips %>% \n",
    "  group_by(member_casual, month, weekday_weekend) %>%  #groups by usertype and month\n",
    "  summarise(number_of_rides_new = sum(number_of_rides)\t\t\t\t#calculates the number of rides and average duration \n",
    "            ,average_duration_new = mean(average_duration)) %>% \t\t# calculates the average duration\n",
    "  arrange(member_casual, month, weekday_weekend)"
   ]
  },
  {
   "cell_type": "code",
   "execution_count": 26,
   "id": "9d5d568f",
   "metadata": {
    "execution": {
     "iopub.execute_input": "2023-08-16T14:48:48.458348Z",
     "iopub.status.busy": "2023-08-16T14:48:48.456907Z",
     "iopub.status.idle": "2023-08-16T14:48:48.480523Z",
     "shell.execute_reply": "2023-08-16T14:48:48.478912Z"
    },
    "papermill": {
     "duration": 0.042718,
     "end_time": "2023-08-16T14:48:48.482580",
     "exception": false,
     "start_time": "2023-08-16T14:48:48.439862",
     "status": "completed"
    },
    "tags": []
   },
   "outputs": [],
   "source": [
    "casual_member_year_trips_weekday_weekend_new <- casual_member_year_trips_weekday_weekend %>% \n",
    "  unite(\"month_day_type\", month, weekday_weekend, sep = \" \")"
   ]
  },
  {
   "cell_type": "markdown",
   "id": "28fa06f0",
   "metadata": {
    "papermill": {
     "duration": 0.015041,
     "end_time": "2023-08-16T14:48:48.512089",
     "exception": false,
     "start_time": "2023-08-16T14:48:48.497048",
     "status": "completed"
    },
    "tags": []
   },
   "source": [
    "## Average duration (in minutes)"
   ]
  },
  {
   "cell_type": "code",
   "execution_count": 27,
   "id": "ab8293d5",
   "metadata": {
    "execution": {
     "iopub.execute_input": "2023-08-16T14:48:48.544566Z",
     "iopub.status.busy": "2023-08-16T14:48:48.543118Z",
     "iopub.status.idle": "2023-08-16T14:48:49.218562Z",
     "shell.execute_reply": "2023-08-16T14:48:49.217018Z"
    },
    "papermill": {
     "duration": 0.694282,
     "end_time": "2023-08-16T14:48:49.220891",
     "exception": false,
     "start_time": "2023-08-16T14:48:48.526609",
     "status": "completed"
    },
    "tags": []
   },
   "outputs": [
    {
     "data": {
      "image/png": "[encoded data removed]"
     },
     "metadata": {
      "image/png": {
       "height": 420,
       "width": 420
      }
     },
     "output_type": "display_data"
    }
   ],
   "source": [
    "casual_member_year_trips_weekday_weekend %>% \n",
    "  ggplot(aes(x = month, y = average_duration_new, fill = weekday_weekend)) +\n",
    "  geom_col(position = \"dodge\") +\n",
    "  facet_wrap(~member_casual)"
   ]
  },
  {
   "cell_type": "markdown",
   "id": "e63917d0",
   "metadata": {
    "papermill": {
     "duration": 0.014824,
     "end_time": "2023-08-16T14:48:49.250849",
     "exception": false,
     "start_time": "2023-08-16T14:48:49.236025",
     "status": "completed"
    },
    "tags": []
   },
   "source": [
    "## Conclusions\n",
    "\n",
    "Here we can see that casual users ride more on weekends during the whole year, and their rides increase in the summer period.\n",
    "\n",
    "Membership holders on the other hand use bikes more stable during the whole year, regardless of the day of the week.\n",
    "\n",
    "# Key findings\n",
    "\n",
    "After all our analysis we can conclude that casual users are more likely to use bikes during their free time (since their trips are longer and mostly on weekends).\n",
    "\n",
    "While membership holders use bikes as a transport to get to work or to the store (since their trips are shorter, but more regular every day during the whole year)."
   ]
  },
  {
   "cell_type": "markdown",
   "id": "a6209033",
   "metadata": {
    "papermill": {
     "duration": 0.015244,
     "end_time": "2023-08-16T14:48:49.281146",
     "exception": false,
     "start_time": "2023-08-16T14:48:49.265902",
     "status": "completed"
    },
    "tags": []
   },
   "source": [
    "# Recommendations \n",
    "\n",
    "I think it will be a great strategy to prepare a special membership option for only the weekend (for the whole year).\n",
    "\n",
    "And returning to our year statistics, we can conclude, that the half-year membership (for the warm months: April-October) also would be a great decision."
   ]
  },
  {
   "cell_type": "markdown",
   "id": "f35eef9f",
   "metadata": {
    "papermill": {
     "duration": 0.015798,
     "end_time": "2023-08-16T14:48:49.312119",
     "exception": false,
     "start_time": "2023-08-16T14:48:49.296321",
     "status": "completed"
    },
    "tags": []
   },
   "source": [
    "# Thank you for your time!"
   ]
  }
 ],
 "metadata": {
  "kernelspec": {
   "display_name": "R",
   "language": "R",
   "name": "ir"
  },
  "language_info": {
   "codemirror_mode": "r",
   "file_extension": ".r",
   "mimetype": "text/x-r-source",
   "name": "R",
   "pygments_lexer": "r",
   "version": "4.0.5"
  },
  "papermill": {
   "default_parameters": {},
   "duration": 81.577261,
   "end_time": "2023-08-16T14:48:49.650541",
   "environment_variables": {},
   "exception": null,
   "input_path": "__notebook__.ipynb",
   "output_path": "__notebook__.ipynb",
   "parameters": {},
   "start_time": "2023-08-16T14:47:28.073280",
   "version": "2.4.0"
  }
 },
 "nbformat": 4,
 "nbformat_minor": 5
}
